{
  "cells": [
    {
      "cell_type": "markdown",
      "metadata": {
        "id": "view-in-github",
        "colab_type": "text"
      },
      "source": [
        "<a href=\"https://colab.research.google.com/github/CezarMassayoshi/Jogos/blob/main/Jogo_Adivinha%C3%A7%C3%A3o.ipynb\" target=\"_parent\"><img src=\"https://colab.research.google.com/assets/colab-badge.svg\" alt=\"Open In Colab\"/></a>"
      ]
    },
    {
      "cell_type": "code",
      "source": [
        "import random\n",
        "\n",
        "print(\"*********************************\")\n",
        "print(\"bem vindo ao jogo de advinhação\")\n",
        "print(\"*********************************\")\n",
        "\n",
        "numero_secreto = random.randrange(0,101) #random entre 0.0 e 1.0\n",
        "total_de_tentativas = 0\n",
        "pontos = 1000\n",
        "\n",
        "print(\"Qual nível de dificuldade voce deseja?\")\n",
        "print(\"(1) Fácil (2) Médio (3) Díficil\")\n",
        "\n",
        "nivel = int(input(\"Defina o nível: \"))\n",
        "\n",
        "if(nivel==1):\n",
        "    total_de_tentativas = 20\n",
        "elif(nivel==2):\n",
        "    total_de_tentativas = 10\n",
        "else:\n",
        "    total_de_tentativas = 5\n",
        "\n",
        "for rodada in range(1, total_de_tentativas+1):\n",
        "    print(\"Tentativa: {} de {}\".format(rodada,total_de_tentativas))\n",
        "    chute_str = input(\"Digite seu número entre 1 e 100: \")\n",
        "    print(\"Voce digitou\", chute_str)\n",
        "    chute = int(chute_str)\n",
        "\n",
        "    if(chute < 1 or chute > 100):\n",
        "        print(\"voce deve digitar um valor entre 1 e 100\")\n",
        "        continue\n",
        "\n",
        "    acertou = chute == numero_secreto\n",
        "    menor = chute < numero_secreto\n",
        "    maior = chute > numero_secreto\n",
        "\n",
        "    if (acertou):\n",
        "        print(\"Voce acertou e fez {} pontos!\".format(pontos))\n",
        "        break\n",
        "    else:\n",
        "        if(menor):\n",
        "            print(\"Você Errou! Voce chutou um numero menor que o valor correto\")\n",
        "        elif(maior):\n",
        "            print(\"Você Errou! Voce chutou um valor maior que o valor correto\")\n",
        "        pontos_perdidos = abs(numero_secreto - chute)\n",
        "        pontos = pontos - pontos_perdidos\n",
        "\n",
        "\n",
        "    print(\"Fim de jogo\")"
      ],
      "metadata": {
        "id": "Wg0mX80AT6LE",
        "outputId": "e0495e81-1538-4f41-d55d-3d05b7d7098e",
        "colab": {
          "base_uri": "https://localhost:8080/"
        }
      },
      "execution_count": null,
      "outputs": [
        {
          "output_type": "stream",
          "name": "stdout",
          "text": [
            "*********************************\n",
            "bem vindo ao jogo de advinhação\n",
            "*********************************\n",
            "Qual nível de dificuldade voce deseja?\n",
            "(1) Fácil (2) Médio (3) Díficil\n",
            "Defina o nível: 1\n",
            "Tentativa: 1 de 20\n",
            "Digite seu número entre 1 e 100: 5\n",
            "Voce digitou 5\n",
            "Você Errou! Voce chutou um numero menor que o valor correto\n",
            "Fim de jogo\n",
            "Tentativa: 2 de 20\n",
            "Digite seu número entre 1 e 100: 18\n",
            "Voce digitou 18\n",
            "Você Errou! Voce chutou um numero menor que o valor correto\n",
            "Fim de jogo\n",
            "Tentativa: 3 de 20\n",
            "Digite seu número entre 1 e 100: 19\n",
            "Voce digitou 19\n",
            "Você Errou! Voce chutou um numero menor que o valor correto\n",
            "Fim de jogo\n",
            "Tentativa: 4 de 20\n",
            "Digite seu número entre 1 e 100: 50\n",
            "Voce digitou 50\n",
            "Voce acertou e fez 892 pontos!\n"
          ]
        }
      ]
    }
  ],
  "metadata": {
    "colab": {
      "collapsed_sections": [],
      "name": "Jogo Adivinhação",
      "toc_visible": true,
      "provenance": [],
      "include_colab_link": true
    },
    "kernelspec": {
      "display_name": "Python 3",
      "name": "python3"
    }
  },
  "nbformat": 4,
  "nbformat_minor": 0
}